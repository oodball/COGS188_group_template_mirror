{
 "cells": [
  {
   "attachments": {},
   "cell_type": "markdown",
   "metadata": {},
   "source": [
    "# COGS 188 - Special Topics Proposal"
   ]
  },
  {
   "attachments": {},
   "cell_type": "markdown",
   "metadata": {},
   "source": [
    "# Project Description\n",
    "\n",
    "You have the choice of doing either (1) an AI solve a problem style project or (2) run a Special Topics class on a topic of your choice.  This repo is assuming you want to do (1).  If you want to do (1) you should fill out the _other_ proposal for that. This is the proposal description for (2).\n",
    "\n",
    "You will take a topic and run class for a lecture. In this proposal we would like to know the following information.\n",
    "\n",
    "- What is the topic? How will it be covered?  Make an outline.\n",
    "  -  What (sub)elements of the topic will you be covering?  \n",
    "  -  Highlight key points/takeaways for each (sub)element you want to cover\n",
    "- What is your pedagocial approach?\n",
    "   -  What readings will students be assigned?\n",
    "   -  Will slides/lecture be used?  \n",
    "      -  Covering which of the elements in the outline? \n",
    "      -  Delivered by whom?\n",
    "   -  What active learning methods be used?\n",
    "      -  Discussions? \n",
    "         -  On which elements? \n",
    "         -  For how long maximum? \n",
    "         -  What framework will you use to kick off discussion? \n",
    "      -  In-class exercises? \n",
    "         -  On which elements? \n",
    "         -  For how long maximum? \n",
    "         -  Describe the exercise briefly\n",
    "\n",
    "  \n",
    "\n",
    "It is possible to make a proposal without knowing all of these things in fine detail, but the closer you are to having an actual set of class materials the better.\n",
    "\n",
    "__!!!__ I will ask to review your class materials no later than 48 hours before you run class.  I may have feedback for you to make modifications no later than 24 hours in advance. You will be turning in those class materials to me as you final project __!!!__\n",
    "\n",
    "\n",
    "Here is an incomplete list of topics\n",
    "- Any chapter or section in Russel+Norvig that we didn't cover.  I'd especially call out:\n",
    "  - AI Philosophy\n",
    "  - Logic and/or planning\n",
    "  - Knowledge representation / Expert systems\n",
    "  - Robotics specific things like SLAM/Kalman filters\n",
    "  - Natural Language Processing\n",
    "  - Genetic Algorithms\n",
    "  - Causal learning in AI\n",
    "  - AI History\n",
    "  - AI Ethics\n",
    "- Any chapter or section in Sutton+Barto that we didn't cover.  I'd especially call out:\n",
    "  - Tabular methods\n",
    "  - Approximate solutions\n",
    "  - History\n",
    "  - Applications with Psychology/Neuroscience \n",
    "  - Technical applications\n",
    "- Any relevant and recent scientific advances, e.g.\n",
    "  - what are some really cool problems/benchmarks that other project groups might want to tackle?\n",
    "  - detailed discussion of AlphaGo\n",
    "  - how tf does RLHF work?\n",
    "  - deep Q networks / Atari 2600 benchmark\n",
    "  - Explainable AI\n",
    "  - Anything really! Scour blogs and see whats popular at NeurIPS\n",
    "\n",
    "Feel free to delete this description section when you hand in your proposal."
   ]
  },
  {
   "cell_type": "markdown",
   "metadata": {},
   "source": [
    "# Names\n",
    "\n",
    "Hopefully your team is at least this good. Obviously you should replace these with your names.\n",
    "\n",
    "- Larry Nguyen\n",
    "- Audrey Liang"
   ]
  },
  {
   "attachments": {},
   "cell_type": "markdown",
   "metadata": {},
   "source": [
    "# Topic and outline\n",
    "\n",
    "### Main topic\n",
    "20 to 200 words (less is better) describing what the topic is\n",
    "\n",
    "We want to talk about the AI Ethics \n",
    "\n",
    "### Learning goal for students \n",
    "See my syllabus for examples of learning goals. One such was \"Students will be able to describe and apply Monte Carlo methods to perform dynamic programming and reinforcement learning\"\n",
    "\n",
    "\n",
    "### Outline of the topic\n",
    "  - Element 1\n",
    "    - __BOLD FACE KEYPOINT__ something you really want students to know\n",
    "    - Another less important element\n",
    "    - Something else\n",
    "  - Element 2\n",
    "    - __KEYPOINT 2a__ something blah\n",
    "    - 2b\n",
    "    - \n",
    "  - etc "
   ]
  },
  {
   "attachments": {},
   "cell_type": "markdown",
   "metadata": {},
   "source": [
    "# Pedagogy\n",
    "\n",
    "\n",
    "### Readings\n",
    "Citation for one or more readings students will need to consume before class. \n",
    "\n",
    "Each reading should be accompanied by 1 to 3 short paragraphs describing what the reading covers that you want students to know\n",
    "\n",
    "https://www.forbes.com/sites/eliamdur/2024/01/24/6-critical--and-urgent--ethics-issues-with-ai/?sh=6a09f4a24cc9\n",
    "\n",
    "This article covers the ethical concerns polled by AI experts. The six concerns are: data bias, privacy, accountability, job displacement, transparency, and the future possibilites of AI. Data bias is one of the biggest concerns for AI right now as the system would make decisions/judgements based on what they are trained on. If the data is biased towards something, it will alter the machine's decision making. As AI gets implemented more in our technology, some may get concerned about how deep into one's privacy AI will get. The next concern is who will take blame if something goes wrong with the machine. For example, if a self-driving vehicle gets into an accident, who is at fault? Another big concern with the advent of AI stems from the number of jobs that it will take over. As AI slowly takes over, humans will have to suffer job loss and adapt. Next comes transparency as any entity who uses AI may keep their usage hidden from the public. From there, the line between human and machine generated becomes even more blurred. For the future of AI, the main concern stems from the potential growth of the technology.\n",
    "\n",
    "https://www.whitehouse.gov/ostp/ai-bill-of-rights/\n",
    "\n",
    "This reading covers a \"bill of rights\" when using and implementing AI in the real world. This guide is created to list out principles that should be followed when designing systems that use AI. The white house wants these principles to be the guidelines for AI use as these algorithms can generate outputs that are harmful, misleading, or play into preexisting biases. This happens because of what we feed into the data they use.\n",
    "\n",
    "\n",
    "This article contains five principles when dealing with AI. These principles are: safe and effective systems, algorithmic discrimination protections, data privacy, notice and explanation, and human alternatives, consideration, and fallback. For safe and effective systems, any automated system should be developed by diverse communities, stakeholders, and domain experts to review any potential downsides that are in the system. This is to ensure that inappropriate or irrelevant content does not show up on the user's end. For algorithmic discrimination protections, the system should not have different treatment of people based on race, color, ethnicity, sex, religion, age, or any other classifications protected by the law. For data privacy, the system should not have any abusive or invasive data practices and your personal data should be safe. For notice and explanation, the user should know that AI is being used for a task and how and why it leads to outcomes that impact you. For human alternatives, consideration, and fallback, any user should be able to have the option to not use AI in a scenario and instead confide in a human person to deal with the scenario.\n",
    "\n",
    "\n",
    "### Lecture description\n",
    "Include some details of what will be covered by traditional lecture.  A slide running order is ideal here, but probably unrealistic.  Include information about how you will apportion coverage between group members.\n",
    "\n",
    "The structure we aim to have for this lecture would be going through the history of AI to understand how we got to where we are right now. Then, we would discuss AI and its ethics in present day. Finally, we would talk about the multiple possibilities of AI.\n",
    "\n",
    "For the history of AI, we plan to go over things like the Turing machine and the Chinese room problem to see basically the infancy of AI. We would possibly also talk about the questions that were thrown around in the past and use that as a transition to where we are at now.\n",
    "\n",
    "For the present day section, we would go over the positives and negatives of AI. Here would be an interactive exercise where we poll the class on the pros and cons of AI. We would include real life examples of these pros and cons. Additionally, we would add a section about current talks + laws to regulate AI.\n",
    "\n",
    "For the future section, we would go over potential concerns for AI heading into the future. This could cover topics like job loss, AI rights, and safety as we have outlined. \n",
    "\n",
    "### Active learning\n",
    "Include information about any discussions or exercises you will have students do.  Each active learning exercise needs 1 to 3 short paragraphs.  It should include \n",
    "- the element of the outline this will cover\n",
    "- brief description of framework you will provide to set off the discussion OR a description of the in class exercise\n",
    "- for how long maximum will this run? \n",
    "\n",
    "One active learning section we plan to have would be discussing the pros and cons of using AI in today's day and age. This would cover element 2 in our outline. This would be a small poll from the class to see what they believe are the biggest benefits and drawbacks of AI while also including our own thoughts to compare. This would run for around 3-5 minutes.\n",
    "\n",
    "Another active learning section would be seeing what concern is raised in a real life scenario. This section would also cover element 2 in our outline. We would list in real life examples of when AI has breached one of the concerns we mentioned in the lecture. From here, the class has to figure out and possibly debate which principle the machine broke and how to possibly fix it. This exercise would also run for around 5 minutes."
   ]
  },
  {
   "attachments": {},
   "cell_type": "markdown",
   "metadata": {},
   "source": [
    "# Dates\n",
    "\n",
    "- May 29\n",
    "- May 20\n",
    "- May 31"
   ]
  },
  {
   "cell_type": "markdown",
   "metadata": {},
   "source": [
    "# Team Expectations "
   ]
  },
  {
   "cell_type": "markdown",
   "metadata": {},
   "source": [
    "Put things here that cement how you will interact/communicate as a team, how you will handle conflict and difficulty, how you will handle making decisions and setting goals/schedule, how much work you expect from each other, how you will handle deadlines, etc...\n",
    "* *Team Expectation 1*:\n",
    "  * We will commmunicate through Discord.\n",
    "* *Team Expectation 2*:\n",
    "  * We will have weekly meetings on Wednesdays to talk about progress on our research and any other tasks. \n",
    "* *Team Expecation 3*:\n",
    "  * If we can't do the work for some reason let the other person know. "
   ]
  },
  {
   "cell_type": "markdown",
   "metadata": {},
   "source": [
    "# Project Timeline Proposal"
   ]
  },
  {
   "cell_type": "markdown",
   "metadata": {},
   "source": [
    "Replace this with something meaningful that is appropriate for your needs. It doesn't have to be something that fits this format.  It doesn't have to be set in stone... \"no battle plan survives contact with the enemy\". But you need a battle plan nonetheless, and you need to keep it updated so you understand what you are trying to accomplish, who's responsible for what, and what the expected due dates are for each item.\n",
    "\n",
    "| Meeting Date  | Meeting Time| Completed Before Meeting  | Discuss at Meeting |\n",
    "|---|---|---|---|\n",
    "| 5/1  |  12 PM |  Brainstorm topics/questions (all)  | Determine best form of communication; Discuss and decide on final project topic; discuss hypothesis; begin background research | \n",
    "| 5/8  |  12 PM |  (Larry) Complete Pedagogy (Audrey) Complete Outline | finalize project proposal, turn it in | \n",
    "| 5/15  | 12 PM  | Start assembling lecture slides/materials together  | piece together materials   |\n",
    "| 5/22  | 12 PM  | Edit materials, submit to professors | Review/Edit with Professor; Practice giving lecture topic, test run.   |\n",
    "| 5/29  | 12 PM  | Finalize Presentation | Give Presentation |"
   ]
  },
  {
   "cell_type": "markdown",
   "metadata": {},
   "source": []
  }
 ],
 "metadata": {
  "kernelspec": {
   "display_name": "Python 3",
   "language": "python",
   "name": "python3"
  },
  "language_info": {
   "codemirror_mode": {
    "name": "ipython",
    "version": 3
   },
   "file_extension": ".py",
   "mimetype": "text/x-python",
   "name": "python",
   "nbconvert_exporter": "python",
   "pygments_lexer": "ipython3",
   "version": "3.7.11 (default, Jul 27 2021, 07:03:16) \n[Clang 10.0.0 ]"
  },
  "vscode": {
   "interpreter": {
    "hash": "40d3a090f54c6569ab1632332b64b2c03c39dcf918b08424e98f38b5ae0af88f"
   }
  }
 },
 "nbformat": 4,
 "nbformat_minor": 2
}
